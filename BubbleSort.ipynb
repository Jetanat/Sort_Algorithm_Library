{
 "cells": [
  {
   "cell_type": "code",
   "execution_count": 1,
   "metadata": {},
   "outputs": [],
   "source": [
    "import numpy as np"
   ]
  },
  {
   "cell_type": "code",
   "execution_count": 2,
   "metadata": {},
   "outputs": [],
   "source": [
    "def bubble_sort(an_array):\n",
    "\n",
    "    len_an_array = len(an_array)\n",
    "\n",
    "    for index_i in range(0, (len_an_array-1)):\n",
    "\n",
    "        for index_j in range(0, (len_an_array-1) - index_i):\n",
    "            \n",
    "            if  an_array[index_j] > an_array[index_j + 1]:\n",
    "                swap = an_array[index_j]\n",
    "                an_array[index_j] = an_array[index_j + 1]\n",
    "                an_array[index_j + 1] = swap\n",
    "\n",
    "\n",
    "\n",
    "\n",
    "    return an_array\n"
   ]
  },
  {
   "cell_type": "code",
   "execution_count": 3,
   "metadata": {},
   "outputs": [
    {
     "name": "stdout",
     "output_type": "stream",
     "text": [
      "Generate a random array:  [18 17 15  6 19  5  3  0 13  8  2  9  1 11 12 10 16  7 14  4]\n",
      "Sorted the array by bubble sort:  [ 0  1  2  3  4  5  6  7  8  9 10 11 12 13 14 15 16 17 18 19]\n"
     ]
    }
   ],
   "source": [
    "an_array = np.arange(20)\n",
    "np.random.shuffle(an_array)\n",
    "\n",
    "print(\"Generate a random array: \", an_array)\n",
    "print(\"Sorted the array by bubble sort: \", bubble_sort(an_array))"
   ]
  }
 ],
 "metadata": {
  "kernelspec": {
   "display_name": "base",
   "language": "python",
   "name": "python3"
  },
  "language_info": {
   "codemirror_mode": {
    "name": "ipython",
    "version": 3
   },
   "file_extension": ".py",
   "mimetype": "text/x-python",
   "name": "python",
   "nbconvert_exporter": "python",
   "pygments_lexer": "ipython3",
   "version": "3.9.16"
  }
 },
 "nbformat": 4,
 "nbformat_minor": 2
}
