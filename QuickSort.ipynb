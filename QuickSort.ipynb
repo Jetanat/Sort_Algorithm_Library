{
 "cells": [
  {
   "cell_type": "code",
   "execution_count": 1,
   "metadata": {},
   "outputs": [],
   "source": [
    "import numpy as np"
   ]
  },
  {
   "cell_type": "code",
   "execution_count": 5,
   "metadata": {},
   "outputs": [],
   "source": [
    "\n",
    "def quick_sort(array):\n",
    "\n",
    "    array_size = len(array)\n",
    "    pivot = array[array_size-1]\n",
    "    array_tmp = [pivot]\n",
    "    pivot_index = 0\n",
    "\n",
    "    ### put a pivot to the correct order in an array\n",
    "    for index_i in range(0, array_size-1):\n",
    "        if array[index_i] < pivot:\n",
    "            array_tmp.insert(0, array[index_i])\n",
    "            pivot_index = pivot_index + 1\n",
    "        else:\n",
    "            array_tmp.append(array[index_i])\n",
    "\n",
    "    array_tmp_tmp = [pivot]\n",
    "    ### sort left and right array to ascending order\n",
    "    if pivot_index >= 1:\n",
    "        LHS = quick_sort(array_tmp[0:pivot_index])\n",
    "        array_tmp_tmp = LHS + array_tmp_tmp\n",
    "\n",
    "\n",
    "    if len(array_tmp) - (pivot_index+1) >= 1:\n",
    "        RHS = quick_sort(array_tmp[pivot_index+1:])\n",
    "        array_tmp_tmp = array_tmp_tmp + RHS\n",
    "\n",
    "    array = array_tmp_tmp\n",
    "    return array"
   ]
  },
  {
   "cell_type": "code",
   "execution_count": 7,
   "metadata": {},
   "outputs": [
    {
     "name": "stdout",
     "output_type": "stream",
     "text": [
      "a random array:  [ 4  8  7  3 11  5  2 14  1 15 10  9 13 12  6]\n",
      "The sorting array:  [1, 2, 3, 4, 5, 6, 7, 8, 9, 10, 11, 12, 13, 14, 15]\n"
     ]
    }
   ],
   "source": [
    "array_size = 15\n",
    "an_array = np.arange(array_size) + 1\n",
    "np.random.seed(1)\n",
    "np.random.shuffle(an_array)\n",
    "\n",
    "print(\"a random array: \", an_array)\n",
    "print(\"The sorting array: \", quick_sort(an_array))\n"
   ]
  }
 ],
 "metadata": {
  "kernelspec": {
   "display_name": "base",
   "language": "python",
   "name": "python3"
  },
  "language_info": {
   "codemirror_mode": {
    "name": "ipython",
    "version": 3
   },
   "file_extension": ".py",
   "mimetype": "text/x-python",
   "name": "python",
   "nbconvert_exporter": "python",
   "pygments_lexer": "ipython3",
   "version": "3.9.16"
  }
 },
 "nbformat": 4,
 "nbformat_minor": 2
}
