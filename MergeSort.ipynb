{
 "cells": [
  {
   "cell_type": "markdown",
   "metadata": {},
   "source": [
    "### Merge Sort Algorithm"
   ]
  },
  {
   "cell_type": "code",
   "execution_count": 1,
   "metadata": {},
   "outputs": [],
   "source": [
    "import numpy as np"
   ]
  },
  {
   "cell_type": "code",
   "execution_count": 2,
   "metadata": {},
   "outputs": [],
   "source": [
    "def merge(LHS, RHS):\n",
    "    size_LHS = len(LHS)\n",
    "    size_RHS = len(RHS)\n",
    "\n",
    "    index_LHS = 0\n",
    "    index_RHS = 0\n",
    "\n",
    "    merge_array = np.array([])\n",
    "\n",
    "    while index_LHS + index_RHS <= (size_LHS + size_RHS) - 2:\n",
    "\n",
    "        if index_LHS < size_LHS and index_RHS < size_RHS:\n",
    "            if LHS[index_LHS] < RHS[index_RHS]:\n",
    "\n",
    "                merge_array = np.append(merge_array, LHS[index_LHS])\n",
    "                index_LHS = index_LHS + 1\n",
    "            \n",
    "            else:\n",
    "                merge_array = np.append(merge_array, RHS[index_RHS])\n",
    "                index_RHS = index_RHS + 1\n",
    "        \n",
    "        if index_LHS >= size_LHS:\n",
    "            merge_array = np.append(merge_array, RHS[index_RHS:])\n",
    "            return merge_array\n",
    "        \n",
    "        if index_RHS >= size_RHS:\n",
    "            merge_array = np.append(merge_array, LHS[index_LHS:])\n",
    "            return merge_array\n",
    "\n",
    "def merge_sort(array):\n",
    "\n",
    "    if len(array) > 1:\n",
    "\n",
    "        middle_index = np.int64(len(array)/2.0)\n",
    "\n",
    "        LHS = merge_sort(array[0:middle_index])\n",
    "        RHS = merge_sort(array[middle_index:])\n",
    "\n",
    "        array = merge(LHS, RHS)\n",
    "    \n",
    "    return array"
   ]
  },
  {
   "cell_type": "code",
   "execution_count": 3,
   "metadata": {},
   "outputs": [
    {
     "name": "stdout",
     "output_type": "stream",
     "text": [
      "The original problem:  [18 22 11 20 15 21 27  4 25 23 24  5  3 26  7 19 14  8 28  2 17  1 16 30\n",
      " 29 10  9 13 12  6]\n"
     ]
    },
    {
     "data": {
      "text/plain": [
       "array([ 1.,  2.,  3.,  4.,  5.,  6.,  7.,  8.,  9., 10., 11., 12., 13.,\n",
       "       14., 15., 16., 17., 18., 19., 20., 21., 22., 23., 24., 25., 26.,\n",
       "       27., 28., 29., 30.])"
      ]
     },
     "execution_count": 3,
     "metadata": {},
     "output_type": "execute_result"
    }
   ],
   "source": [
    "array_a_size = 30\n",
    "array_a = np.arange(array_a_size) + 1\n",
    "\n",
    "np.random.seed(1)\n",
    "\n",
    "np.random.shuffle(array_a)\n",
    "\n",
    "print(\"The original problem: \", array_a)\n",
    "\n",
    "merge_sort(array_a)"
   ]
  }
 ],
 "metadata": {
  "kernelspec": {
   "display_name": "base",
   "language": "python",
   "name": "python3"
  },
  "language_info": {
   "codemirror_mode": {
    "name": "ipython",
    "version": 3
   },
   "file_extension": ".py",
   "mimetype": "text/x-python",
   "name": "python",
   "nbconvert_exporter": "python",
   "pygments_lexer": "ipython3",
   "version": "3.9.16"
  }
 },
 "nbformat": 4,
 "nbformat_minor": 2
}
